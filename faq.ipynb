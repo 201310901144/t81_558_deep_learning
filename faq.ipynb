{
 "cells": [
  {
   "cell_type": "markdown",
   "metadata": {},
   "source": [
    "<a href=\"https://colab.research.google.com/github/jeffheaton/t81_558_deep_learning/blob/master/t81_558_class_01_1_overview.ipynb\" target=\"_parent\"><img src=\"https://colab.research.google.com/assets/colab-badge.svg\" alt=\"Open In Colab\"/></a>"
   ]
  },
  {
   "cell_type": "markdown",
   "metadata": {},
   "source": [
    "# T81-558: Applications of Deep Neural Networks\n",
    "**Frequently Asked Questions (FAQ)**\n",
    "* Instructor: [Jeff Heaton](https://sites.wustl.edu/jeffheaton/), McKelvey School of Engineering, [Washington University in St. Louis](https://engineering.wustl.edu/Programs/Pages/default.aspx)\n",
    "* For more information visit the [class website](https://sites.wustl.edu/jeffheaton/t81-558/)."
   ]
  },
  {
   "cell_type": "markdown",
   "metadata": {},
   "source": [
    "# Missing submit Function\n",
    "\n",
    "**Problem:**\n",
    "```\n",
    "NameError: name 'submit' is not defined\n",
    "```\n",
    "\n",
    "**Solution:**\n",
    "All of the assignments contain a cell that defines the submit function.  Make sure you have run this cell. Notebooks usually require all cells to be run, starting from the top."
   ]
  },
  {
   "cell_type": "markdown",
   "metadata": {},
   "source": [
    "# Can't Find Notebook\n",
    "\n",
    "**Problem:**\n",
    "```\n",
    "FileNotFoundError: [Errno 2] No such file or directory: '/Users/jeffh/projects/t81_558_deep_learning/t81_558_class1_intro_python.ipynb'\n",
    "```\n",
    "**Solution:**\n",
    "The path that you are specifying for your assignment .ipynb file is not correct. I provide code to help you locate the assignment [here](https://github.com/jeffheaton/t81_558_deep_learning/blob/master/assignments/assignment_yourname_class1.ipynb)."
   ]
  },
  {
   "cell_type": "markdown",
   "metadata": {},
   "source": [
    "# Submit Data Too Large\n",
    "\n",
    "**Problem:**\n",
    "```\n",
    "Failure: HTTP content length exceeded 10485760 bytes.\n",
    "```\n",
    "\n",
    "**Solution:**\n",
    "I see that error sometimes. Basically AWS Lambda only allows the HTTP request to go up to a certain size. All of my assignments stay well below the limit you are hitting. This means that the amount of data you are generating is far enough above what I am experiencing that you get this error. I would have a look at the number of rows, you are generating."
   ]
  },
  {
   "cell_type": "markdown",
   "metadata": {},
   "source": [
    "# Passing non-numeric values to model.fit\n",
    "\n",
    "**Problem:**\n",
    "```\n",
    "ValueError: Failed to convert a NumPy array to a Tensor (Unsupported object type float).\n",
    "```\n",
    "\n",
    "**Solution:**\n",
    "Print out your \"x\" being passed to the model.fit:\n",
    "\n",
    "```\n",
    ">>> x\n",
    "array([['b', -0.9566132133203712, 'u', ..., 1, 1, 0],\n",
    "       ['a', -0.06005052977584876, 'u', ..., 1, 1, 0],\n",
    "       ['a', -0.8561017017122409, 'u', ..., 0, 1, 0],\n",
    "       ...,\n",
    "       ['a', 1.7571976000991476, 'y', ..., 1, 0, 1],\n",
    "       ['b', -0.9154034935610378, 'u', ..., 0, 1, 0],\n",
    "       ['b', -0.2781605099654916, 'u', ..., 0, 0, 1]], dtype=object)\n",
    "```\n",
    "\n",
    "See the character values? Those need to either be dropped or converted to dummy (and then dropped) before you call df.values.\n"
   ]
  },
  {
   "cell_type": "code",
   "execution_count": null,
   "metadata": {},
   "outputs": [],
   "source": []
  }
 ],
 "metadata": {
  "anaconda-cloud": {},
  "kernelspec": {
   "display_name": "Python 3.9 (tensorflow)",
   "language": "python",
   "name": "tensorflow"
  },
  "language_info": {
   "codemirror_mode": {
    "name": "ipython",
    "version": 3
   },
   "file_extension": ".py",
   "mimetype": "text/x-python",
   "name": "python",
   "nbconvert_exporter": "python",
   "pygments_lexer": "ipython3",
   "version": "3.9.7"
  }
 },
 "nbformat": 4,
 "nbformat_minor": 4
}
